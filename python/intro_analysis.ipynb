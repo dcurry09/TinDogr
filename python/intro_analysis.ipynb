{
 "cells": [
  {
   "cell_type": "markdown",
   "metadata": {},
   "source": [
    "### Clustering Tinder Profiles\n",
    "In this notebook I will import multiple csv files of tinder profile data scraped from users in my area using a python API/package."
   ]
  },
  {
   "cell_type": "code",
   "execution_count": 1,
   "metadata": {},
   "outputs": [
    {
     "name": "stderr",
     "output_type": "stream",
     "text": [
      "/anaconda3/lib/python3.6/site-packages/sklearn/cross_validation.py:41: DeprecationWarning: This module was deprecated in version 0.18 in favor of the model_selection module into which all the refactored classes and functions are moved. Also note that the interface of the new CV iterators are different from that of this module. This module will be removed in 0.20.\n",
      "  \"This module will be removed in 0.20.\", DeprecationWarning)\n"
     ]
    }
   ],
   "source": [
    "# import dependencies\n",
    "%matplotlib inline\n",
    "import csv as csv\n",
    "import numpy as np\n",
    "import pandas as pd\n",
    "import pylab as py\n",
    "import operator\n",
    "import re, os, progressbar\n",
    "import sys\n",
    "import nltk\n",
    "from pprint import *\n",
    "from sklearn.manifold import TSNE\n",
    "import multiprocessing\n",
    "from collections import Counter\n",
    "import matplotlib.pyplot as plt\n",
    "from sklearn.model_selection import train_test_split\n",
    "from sklearn.feature_extraction.text import CountVectorizer\n",
    "from sklearn.feature_extraction.text import TfidfTransformer, TfidfVectorizer\n",
    "from sklearn.naive_bayes import MultinomialNB\n",
    "from sklearn.pipeline import Pipeline\n",
    "from sklearn.cross_validation import KFold\n",
    "from sklearn.model_selection import GridSearchCV\n",
    "import sklearn.metrics as skmetrics\n",
    "from sklearn.metrics import confusion_matrix, f1_score\n",
    "from sklearn.externals import joblib\n",
    "from operator import itemgetter\n",
    "import pickle\n",
    "import logging\n",
    "from sklearn.decomposition import NMF, LatentDirichletAllocation\n",
    "from time import time\n",
    "import codecs\n",
    "import gensim.models.word2vec as w2v\n",
    "from nltk.corpus import stopwords\n",
    "from nltk import FreqDist\n",
    "from nltk.stem.snowball import SnowballStemmer\n",
    "stemmer = SnowballStemmer(\"dutch\")\n",
    "\n",
    "from __future__ import print_function"
   ]
  },
  {
   "cell_type": "markdown",
   "metadata": {},
   "source": [
    "#### Import the Data"
   ]
  },
  {
   "cell_type": "code",
   "execution_count": 2,
   "metadata": {
    "scrolled": true
   },
   "outputs": [
    {
     "name": "stdout",
     "output_type": "stream",
     "text": [
      "Importing data: /Users/HAL3000/Dropbox/coding/Insight/Tinder/data/results.csv\n"
     ]
    },
    {
     "data": {
      "text/html": [
       "<div>\n",
       "<style>\n",
       "    .dataframe thead tr:only-child th {\n",
       "        text-align: right;\n",
       "    }\n",
       "\n",
       "    .dataframe thead th {\n",
       "        text-align: left;\n",
       "    }\n",
       "\n",
       "    .dataframe tbody tr th {\n",
       "        vertical-align: top;\n",
       "    }\n",
       "</style>\n",
       "<table border=\"1\" class=\"dataframe\">\n",
       "  <thead>\n",
       "    <tr style=\"text-align: right;\">\n",
       "      <th></th>\n",
       "      <th>name</th>\n",
       "      <th>gender</th>\n",
       "      <th>birth_year</th>\n",
       "      <th>bio</th>\n",
       "      <th>distance_mi</th>\n",
       "      <th>photos</th>\n",
       "      <th>schools</th>\n",
       "      <th>jobs</th>\n",
       "      <th>instagram</th>\n",
       "      <th>spotify</th>\n",
       "    </tr>\n",
       "  </thead>\n",
       "  <tbody>\n",
       "    <tr>\n",
       "      <th>0</th>\n",
       "      <td>Katie</td>\n",
       "      <td>F</td>\n",
       "      <td>1987</td>\n",
       "      <td>My name is Katie im looking for a serious rela...</td>\n",
       "      <td>19</td>\n",
       "      <td>http://images.gotinder.com/5a433e5236e65f961d5...</td>\n",
       "      <td>NaN</td>\n",
       "      <td>ISC @ undefined</td>\n",
       "      <td>NaN</td>\n",
       "      <td>NaN</td>\n",
       "    </tr>\n",
       "    <tr>\n",
       "      <th>1</th>\n",
       "      <td>Michelle</td>\n",
       "      <td>F</td>\n",
       "      <td>1974</td>\n",
       "      <td>NaN</td>\n",
       "      <td>41</td>\n",
       "      <td>http://images.gotinder.com/5a57e925347976ac2d3...</td>\n",
       "      <td>Walden University, Walden University</td>\n",
       "      <td>Care giver for disabled @ Personal Home Caregiver</td>\n",
       "      <td>NaN</td>\n",
       "      <td>NaN</td>\n",
       "    </tr>\n",
       "    <tr>\n",
       "      <th>2</th>\n",
       "      <td>Alissa</td>\n",
       "      <td>F</td>\n",
       "      <td>1981</td>\n",
       "      <td>Whiskey lover. Vegetarian. Tattooed gal. Looki...</td>\n",
       "      <td>1</td>\n",
       "      <td>http://images.gotinder.com/5a348af8c42152b3167...</td>\n",
       "      <td>NaN</td>\n",
       "      <td>AR Ops Manager @ undefined</td>\n",
       "      <td>NaN</td>\n",
       "      <td>NaN</td>\n",
       "    </tr>\n",
       "    <tr>\n",
       "      <th>3</th>\n",
       "      <td>Jessica</td>\n",
       "      <td>F</td>\n",
       "      <td>1984</td>\n",
       "      <td>Ask and find out. The answers might surprise you.</td>\n",
       "      <td>73</td>\n",
       "      <td>http://images.gotinder.com/53eafffe4f7f8e9c4ca...</td>\n",
       "      <td>University of Alberta</td>\n",
       "      <td>NaN</td>\n",
       "      <td>NaN</td>\n",
       "      <td>NaN</td>\n",
       "    </tr>\n",
       "    <tr>\n",
       "      <th>4</th>\n",
       "      <td>Susan</td>\n",
       "      <td>F</td>\n",
       "      <td>1981</td>\n",
       "      <td>Seattle-based curator of design, architecture ...</td>\n",
       "      <td>4</td>\n",
       "      <td>http://images.gotinder.com/55cfaa97a0d073de3a3...</td>\n",
       "      <td>Yale School of Architecture, Parsons School of...</td>\n",
       "      <td>Curator @ undefined</td>\n",
       "      <td>NaN</td>\n",
       "      <td>I'm Your Man, Leonard Cohen, I'm Your Man</td>\n",
       "    </tr>\n",
       "    <tr>\n",
       "      <th>5</th>\n",
       "      <td>Yolanda</td>\n",
       "      <td>F</td>\n",
       "      <td>1969</td>\n",
       "      <td>Just looking to date.  I'm ready for some Snow...</td>\n",
       "      <td>18</td>\n",
       "      <td>http://images.gotinder.com/5918b81c6fe3c7856e2...</td>\n",
       "      <td>William Rainey Harper College</td>\n",
       "      <td>undefined @ Private company</td>\n",
       "      <td>NaN</td>\n",
       "      <td>NaN</td>\n",
       "    </tr>\n",
       "    <tr>\n",
       "      <th>6</th>\n",
       "      <td>Christy</td>\n",
       "      <td>F</td>\n",
       "      <td>1976</td>\n",
       "      <td>I am a laid-back, fun-loving, well-traveled, w...</td>\n",
       "      <td>6</td>\n",
       "      <td>http://images.gotinder.com/597aafeaaa3a5a7e7fb...</td>\n",
       "      <td>NaN</td>\n",
       "      <td>RN @ undefined</td>\n",
       "      <td>NaN</td>\n",
       "      <td>NaN</td>\n",
       "    </tr>\n",
       "    <tr>\n",
       "      <th>7</th>\n",
       "      <td>Zuri</td>\n",
       "      <td>F</td>\n",
       "      <td>1988</td>\n",
       "      <td>NaN</td>\n",
       "      <td>7</td>\n",
       "      <td>http://images.gotinder.com/5a2e13772f46971c105...</td>\n",
       "      <td>Eastern Washington University</td>\n",
       "      <td>NaN</td>\n",
       "      <td>NaN</td>\n",
       "      <td>NaN</td>\n",
       "    </tr>\n",
       "    <tr>\n",
       "      <th>8</th>\n",
       "      <td>Rex</td>\n",
       "      <td>F</td>\n",
       "      <td>1990</td>\n",
       "      <td>I think about birds the most. My siblings are ...</td>\n",
       "      <td>4</td>\n",
       "      <td>http://images.gotinder.com/5a558df1cb58ec106ae...</td>\n",
       "      <td>NaN</td>\n",
       "      <td>NaN</td>\n",
       "      <td>NaN</td>\n",
       "      <td>The Front Door, Valerie June, The Order Of Time</td>\n",
       "    </tr>\n",
       "    <tr>\n",
       "      <th>9</th>\n",
       "      <td>Tyesha</td>\n",
       "      <td>F</td>\n",
       "      <td>1989</td>\n",
       "      <td>NaN</td>\n",
       "      <td>7</td>\n",
       "      <td>http://images.gotinder.com/5a56ef1f69c73afa6ff...</td>\n",
       "      <td>NaN</td>\n",
       "      <td>Leasing Manager @ undefined</td>\n",
       "      <td>NaN</td>\n",
       "      <td>NaN</td>\n",
       "    </tr>\n",
       "  </tbody>\n",
       "</table>\n",
       "</div>"
      ],
      "text/plain": [
       "       name gender  birth_year  \\\n",
       "0     Katie      F        1987   \n",
       "1  Michelle      F        1974   \n",
       "2    Alissa      F        1981   \n",
       "3   Jessica      F        1984   \n",
       "4     Susan      F        1981   \n",
       "5   Yolanda      F        1969   \n",
       "6   Christy      F        1976   \n",
       "7      Zuri      F        1988   \n",
       "8       Rex      F        1990   \n",
       "9    Tyesha      F        1989   \n",
       "\n",
       "                                                 bio  distance_mi  \\\n",
       "0  My name is Katie im looking for a serious rela...           19   \n",
       "1                                                NaN           41   \n",
       "2  Whiskey lover. Vegetarian. Tattooed gal. Looki...            1   \n",
       "3  Ask and find out. The answers might surprise you.           73   \n",
       "4  Seattle-based curator of design, architecture ...            4   \n",
       "5  Just looking to date.  I'm ready for some Snow...           18   \n",
       "6  I am a laid-back, fun-loving, well-traveled, w...            6   \n",
       "7                                                NaN            7   \n",
       "8  I think about birds the most. My siblings are ...            4   \n",
       "9                                                NaN            7   \n",
       "\n",
       "                                              photos  \\\n",
       "0  http://images.gotinder.com/5a433e5236e65f961d5...   \n",
       "1  http://images.gotinder.com/5a57e925347976ac2d3...   \n",
       "2  http://images.gotinder.com/5a348af8c42152b3167...   \n",
       "3  http://images.gotinder.com/53eafffe4f7f8e9c4ca...   \n",
       "4  http://images.gotinder.com/55cfaa97a0d073de3a3...   \n",
       "5  http://images.gotinder.com/5918b81c6fe3c7856e2...   \n",
       "6  http://images.gotinder.com/597aafeaaa3a5a7e7fb...   \n",
       "7  http://images.gotinder.com/5a2e13772f46971c105...   \n",
       "8  http://images.gotinder.com/5a558df1cb58ec106ae...   \n",
       "9  http://images.gotinder.com/5a56ef1f69c73afa6ff...   \n",
       "\n",
       "                                             schools  \\\n",
       "0                                                NaN   \n",
       "1               Walden University, Walden University   \n",
       "2                                                NaN   \n",
       "3                              University of Alberta   \n",
       "4  Yale School of Architecture, Parsons School of...   \n",
       "5                      William Rainey Harper College   \n",
       "6                                                NaN   \n",
       "7                      Eastern Washington University   \n",
       "8                                                NaN   \n",
       "9                                                NaN   \n",
       "\n",
       "                                                jobs instagram  \\\n",
       "0                                    ISC @ undefined       NaN   \n",
       "1  Care giver for disabled @ Personal Home Caregiver       NaN   \n",
       "2                         AR Ops Manager @ undefined       NaN   \n",
       "3                                                NaN       NaN   \n",
       "4                                Curator @ undefined       NaN   \n",
       "5                        undefined @ Private company       NaN   \n",
       "6                                     RN @ undefined       NaN   \n",
       "7                                                NaN       NaN   \n",
       "8                                                NaN       NaN   \n",
       "9                        Leasing Manager @ undefined       NaN   \n",
       "\n",
       "                                           spotify  \n",
       "0                                              NaN  \n",
       "1                                              NaN  \n",
       "2                                              NaN  \n",
       "3                                              NaN  \n",
       "4        I'm Your Man, Leonard Cohen, I'm Your Man  \n",
       "5                                              NaN  \n",
       "6                                              NaN  \n",
       "7                                              NaN  \n",
       "8  The Front Door, Valerie June, The Order Of Time  \n",
       "9                                              NaN  "
      ]
     },
     "execution_count": 2,
     "metadata": {},
     "output_type": "execute_result"
    }
   ],
   "source": [
    "filepath  = '/Users/HAL3000/Dropbox/coding/Insight/Tinder/data/results.csv'\n",
    "print('Importing data:',filepath)\n",
    "test_data = pd.read_csv(filepath)\n",
    "#test_data.reset_index(drop=True,inplace=True)\n",
    "test_data.head(10)"
   ]
  },
  {
   "cell_type": "code",
   "execution_count": 3,
   "metadata": {},
   "outputs": [
    {
     "data": {
      "text/plain": [
       "(10033, 10)"
      ]
     },
     "execution_count": 3,
     "metadata": {},
     "output_type": "execute_result"
    }
   ],
   "source": [
    "# What are the dimensions(how many tinder profiles and features)?\n",
    "test_data.shape"
   ]
  },
  {
   "cell_type": "markdown",
   "metadata": {},
   "source": [
    "### We now need to encode the text features\n",
    "tips: http://pbpython.com/categorical-encoding.html"
   ]
  },
  {
   "cell_type": "code",
   "execution_count": 4,
   "metadata": {},
   "outputs": [
    {
     "data": {
      "text/plain": [
       "name           object\n",
       "gender         object\n",
       "birth_year      int64\n",
       "bio            object\n",
       "distance_mi     int64\n",
       "photos         object\n",
       "schools        object\n",
       "jobs           object\n",
       "instagram      object\n",
       "spotify        object\n",
       "dtype: object"
      ]
     },
     "execution_count": 4,
     "metadata": {},
     "output_type": "execute_result"
    }
   ],
   "source": [
    "# What types of data do we have?\n",
    "test_data.dtypes"
   ]
  },
  {
   "cell_type": "code",
   "execution_count": 5,
   "metadata": {
    "collapsed": true
   },
   "outputs": [],
   "source": [
    "# Let's only keep the features which are of interest to us\n",
    "test_data = test_data.drop(['name', 'photos', 'instagram'], axis=1)"
   ]
  },
  {
   "cell_type": "code",
   "execution_count": 6,
   "metadata": {},
   "outputs": [
    {
     "data": {
      "text/plain": [
       "gender           int8\n",
       "birth_year      int64\n",
       "bio            object\n",
       "distance_mi     int64\n",
       "schools        object\n",
       "jobs           object\n",
       "spotify        object\n",
       "dtype: object"
      ]
     },
     "execution_count": 6,
     "metadata": {},
     "output_type": "execute_result"
    }
   ],
   "source": [
    "# Now we can pandas category function to encode some of the text(gender first)\n",
    "#test_data[\"gender\"] = test_data[\"gender\"].astype('category')\n",
    "test_data[\"gender\"] = test_data[\"gender\"].astype('category').cat.codes\n",
    "test_data.dtypes"
   ]
  },
  {
   "cell_type": "code",
   "execution_count": 7,
   "metadata": {},
   "outputs": [
    {
     "data": {
      "text/html": [
       "<div>\n",
       "<style>\n",
       "    .dataframe thead tr:only-child th {\n",
       "        text-align: right;\n",
       "    }\n",
       "\n",
       "    .dataframe thead th {\n",
       "        text-align: left;\n",
       "    }\n",
       "\n",
       "    .dataframe tbody tr th {\n",
       "        vertical-align: top;\n",
       "    }\n",
       "</style>\n",
       "<table border=\"1\" class=\"dataframe\">\n",
       "  <thead>\n",
       "    <tr style=\"text-align: right;\">\n",
       "      <th></th>\n",
       "      <th>gender</th>\n",
       "      <th>birth_year</th>\n",
       "      <th>bio</th>\n",
       "      <th>distance_mi</th>\n",
       "      <th>schools</th>\n",
       "      <th>jobs</th>\n",
       "      <th>spotify</th>\n",
       "    </tr>\n",
       "  </thead>\n",
       "  <tbody>\n",
       "    <tr>\n",
       "      <th>0</th>\n",
       "      <td>0</td>\n",
       "      <td>1987</td>\n",
       "      <td>My name is Katie im looking for a serious rela...</td>\n",
       "      <td>19</td>\n",
       "      <td>NaN</td>\n",
       "      <td>ISC @ undefined</td>\n",
       "      <td>NaN</td>\n",
       "    </tr>\n",
       "    <tr>\n",
       "      <th>1</th>\n",
       "      <td>0</td>\n",
       "      <td>1974</td>\n",
       "      <td>NaN</td>\n",
       "      <td>41</td>\n",
       "      <td>Walden University, Walden University</td>\n",
       "      <td>Care giver for disabled @ Personal Home Caregiver</td>\n",
       "      <td>NaN</td>\n",
       "    </tr>\n",
       "    <tr>\n",
       "      <th>2</th>\n",
       "      <td>0</td>\n",
       "      <td>1981</td>\n",
       "      <td>Whiskey lover. Vegetarian. Tattooed gal. Looki...</td>\n",
       "      <td>1</td>\n",
       "      <td>NaN</td>\n",
       "      <td>AR Ops Manager @ undefined</td>\n",
       "      <td>NaN</td>\n",
       "    </tr>\n",
       "    <tr>\n",
       "      <th>3</th>\n",
       "      <td>0</td>\n",
       "      <td>1984</td>\n",
       "      <td>Ask and find out. The answers might surprise you.</td>\n",
       "      <td>73</td>\n",
       "      <td>University of Alberta</td>\n",
       "      <td>NaN</td>\n",
       "      <td>NaN</td>\n",
       "    </tr>\n",
       "    <tr>\n",
       "      <th>4</th>\n",
       "      <td>0</td>\n",
       "      <td>1981</td>\n",
       "      <td>Seattle-based curator of design, architecture ...</td>\n",
       "      <td>4</td>\n",
       "      <td>Yale School of Architecture, Parsons School of...</td>\n",
       "      <td>Curator @ undefined</td>\n",
       "      <td>I'm Your Man, Leonard Cohen, I'm Your Man</td>\n",
       "    </tr>\n",
       "  </tbody>\n",
       "</table>\n",
       "</div>"
      ],
      "text/plain": [
       "   gender  birth_year                                                bio  \\\n",
       "0       0        1987  My name is Katie im looking for a serious rela...   \n",
       "1       0        1974                                                NaN   \n",
       "2       0        1981  Whiskey lover. Vegetarian. Tattooed gal. Looki...   \n",
       "3       0        1984  Ask and find out. The answers might surprise you.   \n",
       "4       0        1981  Seattle-based curator of design, architecture ...   \n",
       "\n",
       "   distance_mi                                            schools  \\\n",
       "0           19                                                NaN   \n",
       "1           41               Walden University, Walden University   \n",
       "2            1                                                NaN   \n",
       "3           73                              University of Alberta   \n",
       "4            4  Yale School of Architecture, Parsons School of...   \n",
       "\n",
       "                                                jobs  \\\n",
       "0                                    ISC @ undefined   \n",
       "1  Care giver for disabled @ Personal Home Caregiver   \n",
       "2                         AR Ops Manager @ undefined   \n",
       "3                                                NaN   \n",
       "4                                Curator @ undefined   \n",
       "\n",
       "                                     spotify  \n",
       "0                                        NaN  \n",
       "1                                        NaN  \n",
       "2                                        NaN  \n",
       "3                                        NaN  \n",
       "4  I'm Your Man, Leonard Cohen, I'm Your Man  "
      ]
     },
     "execution_count": 7,
     "metadata": {},
     "output_type": "execute_result"
    }
   ],
   "source": [
    "test_data.head(5)"
   ]
  },
  {
   "cell_type": "code",
   "execution_count": 8,
   "metadata": {},
   "outputs": [
    {
     "data": {
      "text/html": [
       "<div>\n",
       "<style>\n",
       "    .dataframe thead tr:only-child th {\n",
       "        text-align: right;\n",
       "    }\n",
       "\n",
       "    .dataframe thead th {\n",
       "        text-align: left;\n",
       "    }\n",
       "\n",
       "    .dataframe tbody tr th {\n",
       "        vertical-align: top;\n",
       "    }\n",
       "</style>\n",
       "<table border=\"1\" class=\"dataframe\">\n",
       "  <thead>\n",
       "    <tr style=\"text-align: right;\">\n",
       "      <th></th>\n",
       "      <th>gender</th>\n",
       "      <th>birth_year</th>\n",
       "      <th>bio</th>\n",
       "      <th>distance_mi</th>\n",
       "      <th>schools</th>\n",
       "      <th>jobs</th>\n",
       "      <th>spotify</th>\n",
       "    </tr>\n",
       "  </thead>\n",
       "  <tbody>\n",
       "    <tr>\n",
       "      <th>0</th>\n",
       "      <td>0</td>\n",
       "      <td>1987</td>\n",
       "      <td>My name is Katie im looking for a serious rela...</td>\n",
       "      <td>19</td>\n",
       "      <td></td>\n",
       "      <td>ISC @ undefined</td>\n",
       "      <td></td>\n",
       "    </tr>\n",
       "    <tr>\n",
       "      <th>1</th>\n",
       "      <td>0</td>\n",
       "      <td>1974</td>\n",
       "      <td></td>\n",
       "      <td>41</td>\n",
       "      <td>Walden University, Walden University</td>\n",
       "      <td>Care giver for disabled @ Personal Home Caregiver</td>\n",
       "      <td></td>\n",
       "    </tr>\n",
       "    <tr>\n",
       "      <th>2</th>\n",
       "      <td>0</td>\n",
       "      <td>1981</td>\n",
       "      <td>Whiskey lover. Vegetarian. Tattooed gal. Looki...</td>\n",
       "      <td>1</td>\n",
       "      <td></td>\n",
       "      <td>AR Ops Manager @ undefined</td>\n",
       "      <td></td>\n",
       "    </tr>\n",
       "    <tr>\n",
       "      <th>3</th>\n",
       "      <td>0</td>\n",
       "      <td>1984</td>\n",
       "      <td>Ask and find out. The answers might surprise you.</td>\n",
       "      <td>73</td>\n",
       "      <td>University of Alberta</td>\n",
       "      <td></td>\n",
       "      <td></td>\n",
       "    </tr>\n",
       "    <tr>\n",
       "      <th>4</th>\n",
       "      <td>0</td>\n",
       "      <td>1981</td>\n",
       "      <td>Seattle-based curator of design, architecture ...</td>\n",
       "      <td>4</td>\n",
       "      <td>Yale School of Architecture, Parsons School of...</td>\n",
       "      <td>Curator @ undefined</td>\n",
       "      <td>I'm Your Man, Leonard Cohen, I'm Your Man</td>\n",
       "    </tr>\n",
       "  </tbody>\n",
       "</table>\n",
       "</div>"
      ],
      "text/plain": [
       "   gender  birth_year                                                bio  \\\n",
       "0       0        1987  My name is Katie im looking for a serious rela...   \n",
       "1       0        1974                                                      \n",
       "2       0        1981  Whiskey lover. Vegetarian. Tattooed gal. Looki...   \n",
       "3       0        1984  Ask and find out. The answers might surprise you.   \n",
       "4       0        1981  Seattle-based curator of design, architecture ...   \n",
       "\n",
       "   distance_mi                                            schools  \\\n",
       "0           19                                                      \n",
       "1           41               Walden University, Walden University   \n",
       "2            1                                                      \n",
       "3           73                              University of Alberta   \n",
       "4            4  Yale School of Architecture, Parsons School of...   \n",
       "\n",
       "                                                jobs  \\\n",
       "0                                    ISC @ undefined   \n",
       "1  Care giver for disabled @ Personal Home Caregiver   \n",
       "2                         AR Ops Manager @ undefined   \n",
       "3                                                      \n",
       "4                                Curator @ undefined   \n",
       "\n",
       "                                     spotify  \n",
       "0                                             \n",
       "1                                             \n",
       "2                                             \n",
       "3                                             \n",
       "4  I'm Your Man, Leonard Cohen, I'm Your Man  "
      ]
     },
     "execution_count": 8,
     "metadata": {},
     "output_type": "execute_result"
    }
   ],
   "source": [
    "# Get rid of all NAs\n",
    "test_data = test_data.fillna('')\n",
    "test_data.head(5)"
   ]
  },
  {
   "cell_type": "code",
   "execution_count": 9,
   "metadata": {},
   "outputs": [],
   "source": [
    "# I would also like to get rid of undefined and @. \n",
    "# Next add a list of words to remove\n",
    "#test_data.head(5)"
   ]
  },
  {
   "cell_type": "code",
   "execution_count": 10,
   "metadata": {},
   "outputs": [
    {
     "name": "stdout",
     "output_type": "stream",
     "text": [
      "# of Train Profiles: 10033\n",
      "# of Test Profiles: 0\n"
     ]
    }
   ],
   "source": [
    "# Smash together all text into a new feature column\n",
    "test_data[\"all_text\"] = test_data[\"bio\"] + ' ' + test_data[\"schools\"] + ' ' + test_data[\"jobs\"] + ' ' +  test_data[\"spotify\"]\n",
    "test_data['all_text'] = test_data['all_text'].str.replace('\\d+', '')\n",
    "\n",
    "test_data['all_text'] = test_data['all_text'].replace({'undefined': ''}, regex=True)\n",
    "test_data['all_text'] = test_data['all_text'].replace({'@': ''}, regex=True)\n",
    "test_data['all_text'] = test_data['all_text'].replace({'college': 'university'}, regex=True)\n",
    "test_data['all_text'] = test_data['all_text'].replace({'Seattle': ''}, regex=True)\n",
    "test_data['all_text'] = test_data['all_text'].replace({'Washington': ''}, regex=True)\n",
    "\n",
    "# Stemming\n",
    "#test_data['all_text'] = test_data[\"all_text\"].apply(lambda x: stemmer.stem(y) for y in x)\n",
    "\n",
    "# split a small test set off\n",
    "msk = np.random.rand(len(test_data)) < 0.9998999\n",
    "\n",
    "train = test_data[msk]\n",
    "test = test_data[~msk]\n",
    "\n",
    "print('# of Train Profiles:',len(train))\n",
    "print('# of Test Profiles:',len(test))\n"
   ]
  },
  {
   "cell_type": "code",
   "execution_count": 11,
   "metadata": {},
   "outputs": [
    {
     "data": {
      "text/html": [
       "<div>\n",
       "<style>\n",
       "    .dataframe thead tr:only-child th {\n",
       "        text-align: right;\n",
       "    }\n",
       "\n",
       "    .dataframe thead th {\n",
       "        text-align: left;\n",
       "    }\n",
       "\n",
       "    .dataframe tbody tr th {\n",
       "        vertical-align: top;\n",
       "    }\n",
       "</style>\n",
       "<table border=\"1\" class=\"dataframe\">\n",
       "  <thead>\n",
       "    <tr style=\"text-align: right;\">\n",
       "      <th></th>\n",
       "      <th>gender</th>\n",
       "      <th>birth_year</th>\n",
       "      <th>bio</th>\n",
       "      <th>distance_mi</th>\n",
       "      <th>schools</th>\n",
       "      <th>jobs</th>\n",
       "      <th>spotify</th>\n",
       "      <th>all_text</th>\n",
       "    </tr>\n",
       "  </thead>\n",
       "  <tbody>\n",
       "    <tr>\n",
       "      <th>0</th>\n",
       "      <td>0</td>\n",
       "      <td>1987</td>\n",
       "      <td>My name is Katie im looking for a serious rela...</td>\n",
       "      <td>19</td>\n",
       "      <td></td>\n",
       "      <td>ISC @ undefined</td>\n",
       "      <td></td>\n",
       "      <td>My name is Katie im looking for a serious rela...</td>\n",
       "    </tr>\n",
       "    <tr>\n",
       "      <th>1</th>\n",
       "      <td>0</td>\n",
       "      <td>1974</td>\n",
       "      <td></td>\n",
       "      <td>41</td>\n",
       "      <td>Walden University, Walden University</td>\n",
       "      <td>Care giver for disabled @ Personal Home Caregiver</td>\n",
       "      <td></td>\n",
       "      <td>Walden University, Walden University Care giv...</td>\n",
       "    </tr>\n",
       "    <tr>\n",
       "      <th>2</th>\n",
       "      <td>0</td>\n",
       "      <td>1981</td>\n",
       "      <td>Whiskey lover. Vegetarian. Tattooed gal. Looki...</td>\n",
       "      <td>1</td>\n",
       "      <td></td>\n",
       "      <td>AR Ops Manager @ undefined</td>\n",
       "      <td></td>\n",
       "      <td>Whiskey lover. Vegetarian. Tattooed gal. Looki...</td>\n",
       "    </tr>\n",
       "    <tr>\n",
       "      <th>3</th>\n",
       "      <td>0</td>\n",
       "      <td>1984</td>\n",
       "      <td>Ask and find out. The answers might surprise you.</td>\n",
       "      <td>73</td>\n",
       "      <td>University of Alberta</td>\n",
       "      <td></td>\n",
       "      <td></td>\n",
       "      <td>Ask and find out. The answers might surprise y...</td>\n",
       "    </tr>\n",
       "    <tr>\n",
       "      <th>4</th>\n",
       "      <td>0</td>\n",
       "      <td>1981</td>\n",
       "      <td>Seattle-based curator of design, architecture ...</td>\n",
       "      <td>4</td>\n",
       "      <td>Yale School of Architecture, Parsons School of...</td>\n",
       "      <td>Curator @ undefined</td>\n",
       "      <td>I'm Your Man, Leonard Cohen, I'm Your Man</td>\n",
       "      <td>-based curator of design, architecture and art...</td>\n",
       "    </tr>\n",
       "  </tbody>\n",
       "</table>\n",
       "</div>"
      ],
      "text/plain": [
       "   gender  birth_year                                                bio  \\\n",
       "0       0        1987  My name is Katie im looking for a serious rela...   \n",
       "1       0        1974                                                      \n",
       "2       0        1981  Whiskey lover. Vegetarian. Tattooed gal. Looki...   \n",
       "3       0        1984  Ask and find out. The answers might surprise you.   \n",
       "4       0        1981  Seattle-based curator of design, architecture ...   \n",
       "\n",
       "   distance_mi                                            schools  \\\n",
       "0           19                                                      \n",
       "1           41               Walden University, Walden University   \n",
       "2            1                                                      \n",
       "3           73                              University of Alberta   \n",
       "4            4  Yale School of Architecture, Parsons School of...   \n",
       "\n",
       "                                                jobs  \\\n",
       "0                                    ISC @ undefined   \n",
       "1  Care giver for disabled @ Personal Home Caregiver   \n",
       "2                         AR Ops Manager @ undefined   \n",
       "3                                                      \n",
       "4                                Curator @ undefined   \n",
       "\n",
       "                                     spotify  \\\n",
       "0                                              \n",
       "1                                              \n",
       "2                                              \n",
       "3                                              \n",
       "4  I'm Your Man, Leonard Cohen, I'm Your Man   \n",
       "\n",
       "                                            all_text  \n",
       "0  My name is Katie im looking for a serious rela...  \n",
       "1   Walden University, Walden University Care giv...  \n",
       "2  Whiskey lover. Vegetarian. Tattooed gal. Looki...  \n",
       "3  Ask and find out. The answers might surprise y...  \n",
       "4  -based curator of design, architecture and art...  "
      ]
     },
     "execution_count": 11,
     "metadata": {},
     "output_type": "execute_result"
    }
   ],
   "source": [
    "train.head(5)"
   ]
  },
  {
   "cell_type": "markdown",
   "metadata": {},
   "source": [
    "## Embedding the Words\n",
    "Now that we have a single feature column with all text appeneded we can create our unique word dictionary and embeddings."
   ]
  },
  {
   "cell_type": "code",
   "execution_count": 12,
   "metadata": {
    "scrolled": false
   },
   "outputs": [],
   "source": [
    "count_vect = CountVectorizer(stop_words=\"english\")#, max_features = 25)\n",
    "#cv_alltext      = count_vect.fit_transform(test_data['all_text'].values.astype('U'))\n",
    "cv_alltext = count_vect.fit_transform(train['all_text'].values.astype('U'))\n",
    "#count_vect.vocabulary_.get(u'algorithm')\n",
    "vocab = count_vect.vocabulary_\n",
    "feature_list = [word for word in vocab.keys()] \n",
    "features = count_vect.get_feature_names()\n",
    "#print(features)"
   ]
  },
  {
   "cell_type": "code",
   "execution_count": 13,
   "metadata": {},
   "outputs": [
    {
     "name": "stdout",
     "output_type": "stream",
     "text": [
      "       feature        CV\n",
      "0   university  0.367188\n",
      "1         love  0.355826\n",
      "2      looking  0.309678\n",
      "3         like  0.228645\n",
      "4         just  0.162464\n",
      "5      college  0.161667\n",
      "6          new  0.156783\n",
      "7          don  0.144922\n",
      "8         good  0.137446\n",
      "9         life  0.128376\n",
      "10        time  0.118808\n",
      "11         fun  0.112429\n",
      "12      people  0.111632\n",
      "13     friends  0.105153\n",
      "14       music  0.103857\n",
      "15      things  0.102661\n",
      "16        work  0.088508\n",
      "17       enjoy  0.088309\n",
      "18        want  0.086215\n",
      "19        know  0.083923\n",
      "20        live  0.071265\n",
      "21        kids  0.070467\n",
      "22      travel  0.069770\n",
      "23       state  0.069670\n",
      "24        meet  0.068374\n",
      "\n",
      "\n",
      "\n"
     ]
    }
   ],
   "source": [
    "def top_tfidf_feats(row, features, top_n=25):\n",
    "    ''' Get top n tfidf values in row and return them with their corresponding feature names.\n",
    "    '''\n",
    "\n",
    "    topn_ids = np.argsort(row)[::-1][:top_n]\n",
    "    top_feats = [(features[i], row[i]) for i in topn_ids]\n",
    "    df = pd.DataFrame(top_feats)\n",
    "    df.columns = ['feature', 'CV']\n",
    "    return df\n",
    "\n",
    "def top_feats_in_doc(Xtr, features, row_id, top_n=25):\n",
    "    ''' \n",
    "    Top tfidf features in specific document (matrix row) \n",
    "    '''\n",
    "    \n",
    "    row = np.squeeze(Xtr[row_id].toarray())\n",
    "    return top_tfidf_feats(row, features, top_n)\n",
    "\n",
    "def top_mean_feats(Xtr, features, grp_ids=None, min_tfidf=0.1, top_n=25):\n",
    "    ''' Return the top n features that on average are most important amongst documents in rows\n",
    "        indentified by indices in grp_ids. \n",
    "        Xtr = tfidf array\n",
    "        features = names from vocab(list)\n",
    "    '''\n",
    "    \n",
    "    if grp_ids:\n",
    "        D = Xtr[grp_ids].toarray()\n",
    "    else:\n",
    "        D = Xtr.toarray()\n",
    "\n",
    "    D[D < min_tfidf] = 0\n",
    "    tfidf_means = np.mean(D, axis=0)\n",
    "    return top_tfidf_feats(tfidf_means, features, top_n)\n",
    "\n",
    "def top_sum_feats(Xtr, features, grp_ids=None, top_n=25):\n",
    "    ''' Return the top n features that are the most frequent amongst documents in rows\n",
    "        indentified by indices in grp_ids. \n",
    "        Xtr = tfidf array\n",
    "        features = names from vocab(list)\n",
    "    '''\n",
    "    \n",
    "    if grp_ids:\n",
    "        D = Xtr[grp_ids].toarray()\n",
    "    else:\n",
    "        D = Xtr.toarray()\n",
    "\n",
    "    tfidf_sums = np.sum(D, axis=0)\n",
    "    return top_tfidf_feats(tfidf_sums, features, top_n)\n",
    "\n",
    "print(top_mean_feats(cv_alltext, features))\n",
    "top_mean_features = top_mean_feats(cv_alltext, features)\n",
    "print('\\n\\n')\n",
    "#print(top_sum_feats(cv_alltext, features))"
   ]
  },
  {
   "cell_type": "code",
   "execution_count": 14,
   "metadata": {},
   "outputs": [
    {
     "data": {
      "image/png": "[encoded data removed]",
      "text/plain": [
       "<matplotlib.figure.Figure at 0x10e0c2898>"
      ]
     },
     "metadata": {},
     "output_type": "display_data"
    }
   ],
   "source": [
    "def plot_feats_h(df):\n",
    "    ''' Plot the data frames returned by the function top_mean_feats(). \n",
    "    '''\n",
    "    #print(dfs)\n",
    "    \n",
    "    fig = plt.figure(figsize=(12, 9), facecolor=\"w\")\n",
    "    #ax = fig.add_subplot(1, 1, 1)   \n",
    "    #ax.spines[\"top\"].set_visible(False)\n",
    "    #ax.spines[\"right\"].set_visible(False)\n",
    "    #ax.set_frame_on(False)\n",
    "    #ax.get_xaxis().tick_bottom()\n",
    "    #ax.get_yaxis().tick_left()\n",
    "    #ax.set_xlabel(\"Mean Score\", labelpad=16, fontsize=14)\n",
    "    #ax.ticklabel_format(axis='x', style='sci', scilimits=(-2,2))\n",
    "    ax = df['CV'].plot(kind='barh') \n",
    "    ax.set_frame_on(False)\n",
    "    ax.get_xaxis().tick_bottom()\n",
    "    ax.get_yaxis().tick_left()\n",
    "        \n",
    "    ticks = ax.set_yticklabels(df.feature)\n",
    "    #plt.subplots_adjust(bottom=0.09, right=0.97, left=0.15, top=0.95, wspace=0.52)\n",
    "    plt.savefig('word_freq.png')\n",
    "    plt.show()\n",
    "    \n",
    "plot_feats_h(top_mean_features)"
   ]
  },
  {
   "cell_type": "code",
   "execution_count": 15,
   "metadata": {},
   "outputs": [],
   "source": [
    "# Now look by Gender\n",
    "targets = test_data['gender'].values\n",
    "\n",
    "def top_feats_by_class(Xtr, y, features, min_tfidf=0.1, top_n=25):\n",
    "    ''' Return a list of dfs, where each df holds top_n features and their mean tfidf value\n",
    "        calculated across documents with the same class label.\n",
    "        Xtr = tfidf array\n",
    "        features = names from vocab(list)\n",
    "        y = class labels(fake or real)\n",
    "    '''\n",
    "    \n",
    "    dfs = []\n",
    "    labels = np.unique(y)\n",
    "    #print(labels)\n",
    "    for label in labels:\n",
    "        ids = np.where(y==label)\n",
    "        feats_df = top_mean_feats(Xtr, features, ids, min_tfidf=min_tfidf, top_n=top_n)\n",
    "        \n",
    "        if label == 0:\n",
    "            feats_df.label = 'Female'\n",
    "        else: feats_df.label = 'Male'\n",
    "             \n",
    "        \n",
    "        dfs.append(feats_df)\n",
    "    return dfs\n",
    "\n",
    "#df_class_list = top_feats_by_class(cv_alltext, targets, features)\n",
    "\n",
    "def plot_tfidf_classfeats_h(dfs, title):\n",
    "    ''' Plot the data frames returned by the function top_feats_by_class(). \n",
    "    '''\n",
    "    \n",
    "    fig = plt.figure(figsize=(12, 9), facecolor=\"w\")\n",
    "    x = np.arange(len(dfs[0]))\n",
    "    for i, df in enumerate(dfs):\n",
    "        ax = fig.add_subplot(1, len(dfs), i+1)\n",
    "        ax.spines[\"top\"].set_visible(False)\n",
    "        ax.spines[\"right\"].set_visible(False)\n",
    "        ax.set_frame_on(False)\n",
    "        ax.get_xaxis().tick_bottom()\n",
    "        ax.get_yaxis().tick_left()\n",
    "        ax.set_xlabel(\"Mean Score\", labelpad=16, fontsize=14)\n",
    "        ax.set_title(\"label = \" + str(df.label), fontsize=16)\n",
    "        ax.ticklabel_format(axis='x', style='sci', scilimits=(-2,2))\n",
    "        ax.barh(x, df.CV, align='center', color='#3F5D7D')\n",
    "        ax.set_yticks(x)\n",
    "        ax.set_ylim([-1, x[-1]+1])\n",
    "        yticks = ax.set_yticklabels(df.feature)\n",
    "        plt.subplots_adjust(bottom=0.09, right=0.97, left=0.15, top=0.95, wspace=0.52)\n",
    "    plt.savefig('word_freq_compare.png')\n",
    "    plt.show()\n",
    "    \n",
    "#plot_tfidf_classfeats_h(df_class_list, 'TFIDF')"
   ]
  },
  {
   "cell_type": "markdown",
   "metadata": {
    "collapsed": true
   },
   "source": [
    "## A quick look at word2vec\n",
    "Up to this point we had considered our data in word \"chunks\", that is we broke each sentence into individual parts. In doing so we may have lost a bit of descriptive due to ignoring the holistic nature of words within the document from which it came. Now we will look at words in the context of the sentences in which they reside. To do so we will use the NLTK package for cleaning and tokenization by sentence. Once sentences have been tokenized we will use Word2vec to cluster words together and to find patterns within sentences and documents. Developed at Google, Word2Vec is an unsupervised 2-layer neural network that uses backpropagation to assign probabilites for each word to occur near another for in a given interval.\n",
    "\n",
    "The relevant output of the shallow NN is the weight matrix of the hidden layer. This matrix works essentially as a look-up table for any word given as input. The output for any word input will be a word vector corresponding to that word and whose entries are probabilities to be found near other words. Through this method we can cluster words together by looking for similarities between the word vectors(the output of word2vec) and not the input word frequencies.\n",
    "\n",
    "The hyperparameters of the NN are:\n",
    "\n",
    "num_features is the number of dimensions we want to embed our words in (the length of the final word vectors)\n",
    "min_word_count, if the count of a words use is below this threshold, corpus wide, ignore the word\n",
    "context_size is the window size left and right of the target word to consider words"
   ]
  },
  {
   "cell_type": "code",
   "execution_count": 16,
   "metadata": {
    "collapsed": true
   },
   "outputs": [],
   "source": [
    "def sent_token(text):\n",
    "    text = nltk.sent_tokenize(text)\n",
    "    return text\n",
    "\n",
    "def sentence_clean(text):\n",
    "    new_text = []\n",
    "    for sentence in text:\n",
    "        sentence = sentence.lower()\n",
    "        sentence = re.sub(\"((\\S+)?(http(s)?)(\\S+))|((\\S+)?(www)(\\S+))|((\\S+)?(\\@)(\\S+)?)\", \" \", sentence)\n",
    "        sentence = re.sub(\"[^a-z ]\", \"\", sentence)\n",
    "        sentence = nltk.word_tokenize(sentence)\n",
    "        sentence = [word for word in sentence if len(word)>1] # exclude 1 letter words\n",
    "        new_text.append(sentence)\n",
    "    return new_text\n",
    "\n",
    "def apply_all(text):\n",
    "    return sentence_clean(sent_token(text))"
   ]
  },
  {
   "cell_type": "code",
   "execution_count": 17,
   "metadata": {
    "collapsed": true
   },
   "outputs": [],
   "source": [
    "# Tokenize the sentences\n",
    "test_data['sent_tokenized_text'] = test_data['all_text'].apply(apply_all)\n",
    "all_sentences = list(test_data['sent_tokenized_text'])\n",
    "all_sentences = [subitem for item in all_sentences for subitem in item]"
   ]
  },
  {
   "cell_type": "code",
   "execution_count": 18,
   "metadata": {
    "collapsed": true
   },
   "outputs": [],
   "source": [
    "# Word2Vec Hyperparameters\n",
    "num_features = 300\n",
    "min_word_count = 3\n",
    "num_workers = multiprocessing.cpu_count()\n",
    "context_size = 7\n",
    "downsampling = 1e-3\n",
    "\n",
    "all2vec = w2v.Word2Vec(\n",
    "    sg=1,\n",
    "    workers=num_workers,\n",
    "    size=num_features,\n",
    "    min_count=min_word_count,\n",
    "    window=context_size,\n",
    "    sample=downsampling\n",
    ")"
   ]
  },
  {
   "cell_type": "code",
   "execution_count": 19,
   "metadata": {},
   "outputs": [
    {
     "name": "stdout",
     "output_type": "stream",
     "text": [
      "\n",
      "Loaded Word2Vec Results...\n"
     ]
    },
    {
     "data": {
      "text/plain": [
       "(3362, 300)"
      ]
     },
     "execution_count": 19,
     "metadata": {},
     "output_type": "execute_result"
    }
   ],
   "source": [
    "# Train w2v\n",
    "if not os.path.exists('w2v_matrix.p'):\n",
    "    all2vec.build_vocab(all_sentences)\n",
    "    print(\"Word2Vec vocabulary length:\", len(all2vec.wv.vocab))\n",
    "    print('\\nTraining Word2Vec...')\n",
    "    all2vec.train(all_sentences, total_examples=all2vec.corpus_count, epochs=all2vec.iter)\n",
    "    all_word_vectors_matrix = all2vec.wv.syn0\n",
    "    vocab = all2vec.wv.vocab\n",
    "    pickle.dump(all_word_vectors_matrix, open('w2v_matrix.p', 'wb')) \n",
    "    pickle.dump(vocab, open('w2v_vocab.p', 'wb')) \n",
    "else:    \n",
    "    all_word_vectors_matrix = pickle.load(open('w2v_matrix.p', 'rb'))\n",
    "    vocab = pickle.load(open('w2v_vocab.p', 'rb'))\n",
    "    print('\\nLoaded Word2Vec Results...')\n",
    "\n",
    "# Output shape\n",
    "all_word_vectors_matrix.shape    "
   ]
  },
  {
   "cell_type": "markdown",
   "metadata": {},
   "source": [
    "## Visualizing Word2Vec output\n",
    "A common technique to visualize our newly clustered words is to use TSNE(https://lvdmaaten.github.io/tsne/). TSNE utilizes dimensionality reduction in order to visualize our embedded word relationships in a 2-D representation. Each cluster in this plot can be thought of as a new feature that could be used for training in another algroithm. Instead of hundreds of thousands of unique word features, word2Vec has provided us with a reduced feature set. Whether or not this reduced feature set will provide better seperation power versus real news features will be one of the questions I will look at as this project continues."
   ]
  },
  {
   "cell_type": "code",
   "execution_count": 20,
   "metadata": {},
   "outputs": [
    {
     "name": "stdout",
     "output_type": "stream",
     "text": [
      "\n",
      "Loaded TSNE Fit Results\n"
     ]
    }
   ],
   "source": [
    "if not os.path.exists('tsne_fit.p'):\n",
    "    tsne = TSNE(n_components=2, random_state=0)\n",
    "    #np.set_printoptions(suppress=True)\n",
    "    Y_all = tsne.fit_transform(all_word_vectors_matrix)\n",
    "    pickle.dump(Y_all, open('tsne_fit.p', 'wb')) \n",
    "else:\n",
    "    Y_all = pickle.load(open('tsne_fit.p', 'rb'))\n",
    "    print('\\nLoaded TSNE Fit Results')    "
   ]
  },
  {
   "cell_type": "code",
   "execution_count": 21,
   "metadata": {
    "scrolled": false
   },
   "outputs": [
    {
     "data": {
      "image/png": "[encoded data removed]",
      "text/plain": [
       "<matplotlib.figure.Figure at 0x11a590390>"
      ]
     },
     "metadata": {},
     "output_type": "display_data"
    }
   ],
   "source": [
    "# Plot all words\n",
    "plt.figure(figsize=(20,12))\n",
    "plt.scatter(Y_all[:, 0], Y_all[:, 1],s=10)\n",
    "\n",
    "#for label, x, y in zip(df_CV_FP_25['feature'], Y_FP[:, 0], Y_FP[:, 1]):\n",
    "#    plt.annotate(label, xy=(x, y), xytext=(0, 0), textcoords='offset points')\n",
    "\n",
    "plt.title(\"TSNE Map of Word2Vec Embeddings\")\n",
    "plt.savefig('all_w2v_tsne.png')\n",
    "plt.show()"
   ]
  },
  {
   "cell_type": "markdown",
   "metadata": {},
   "source": [
    "# Finding my first LDA personality clusters\n",
    "See sci-kit blog post here: http://scikit-learn.org/stable/auto_examples/applications/plot_topics_extraction_with_nmf_lda.html#sphx-glr-auto-examples-applications-plot-topics-extraction-with-nmf-lda-py"
   ]
  },
  {
   "cell_type": "code",
   "execution_count": 22,
   "metadata": {},
   "outputs": [
    {
     "name": "stdout",
     "output_type": "stream",
     "text": [
      "Fitting LDA models with CV word features, n_samples=10033 and n_features=9...\n"
     ]
    }
   ],
   "source": [
    "# My dataset is defined below\n",
    "lda_data   = test_data\n",
    "n_samples  = lda_data.shape[0]\n",
    "n_features = lda_data.shape[1] \n",
    "\n",
    "# define the number of clusters to create\n",
    "n_components = 5\n",
    "\n",
    "print(\"Fitting LDA models with CV word features, \"\n",
    "      \"n_samples=%d and n_features=%d...\"\n",
    "      % (n_samples, n_features))\n",
    "lda = LatentDirichletAllocation(n_components=n_components, max_iter=5,\n",
    "                                learning_method='online',\n",
    "                                learning_offset=50.,\n",
    "                                random_state=0)"
   ]
  },
  {
   "cell_type": "code",
   "execution_count": 23,
   "metadata": {},
   "outputs": [
    {
     "name": "stdout",
     "output_type": "stream",
     "text": [
      "done in 27.010s.\n",
      "\n",
      "Personalities in LDA model:\n",
      "Personality #0: university college school state teacher pacific owner law lover remastered\n",
      "Personality #1: college community th pic technical agent park feat gucci clover\n",
      "Personality #2: looking like love don just university good time things college\n",
      "Personality #3: feat valley florida line skagit georgia institute stylist original soundtrack\n",
      "Personality #4: love university looking new like life just people meet friends\n",
      "\n"
     ]
    }
   ],
   "source": [
    "def print_top_words(model, feature_names, n_top_words):\n",
    "    for topic_idx, topic in enumerate(model.components_):\n",
    "        message = \"Personality #%d: \" % topic_idx\n",
    "        message += \" \".join([feature_names[i]\n",
    "                             for i in topic.argsort()[:-n_top_words - 1:-1]])\n",
    "        print(message)\n",
    "    print()\n",
    "\n",
    "t0 = time()\n",
    "lda.fit(cv_alltext)\n",
    "print(\"done in %0.3fs.\" % (time() - t0))\n",
    "\n",
    "print(\"\\nPersonalities in LDA model:\")\n",
    "feature_names = count_vect.get_feature_names()\n",
    "print_top_words(lda, feature_names, 10)"
   ]
  },
  {
   "cell_type": "markdown",
   "metadata": {},
   "source": [
    " ## Testing a new Profile\n",
    "Now I would like test a single profile into the trained LDA weights and see what label it is assigned to.  I would also like to see the shape of the LDA output weights."
   ]
  },
  {
   "cell_type": "code",
   "execution_count": 24,
   "metadata": {},
   "outputs": [
    {
     "name": "stdout",
     "output_type": "stream",
     "text": [
      "Series([], Name: all_text, dtype: object)\n",
      "(0, 18714)\n"
     ]
    },
    {
     "ename": "ValueError",
     "evalue": "Found array with 0 sample(s) (shape=(0, 18714)) while a minimum of 1 is required.",
     "output_type": "error",
     "traceback": [
      "\u001b[0;31m---------------------------------------------------------------------------\u001b[0m",
      "\u001b[0;31mValueError\u001b[0m                                Traceback (most recent call last)",
      "\u001b[0;32m<ipython-input-24-9ab377cdecbb>\u001b[0m in \u001b[0;36m<module>\u001b[0;34m()\u001b[0m\n\u001b[1;32m      2\u001b[0m \u001b[0mX_test\u001b[0m \u001b[0;34m=\u001b[0m \u001b[0mcount_vect\u001b[0m\u001b[0;34m.\u001b[0m\u001b[0mtransform\u001b[0m\u001b[0;34m(\u001b[0m\u001b[0mtest\u001b[0m\u001b[0;34m[\u001b[0m\u001b[0;34m'all_text'\u001b[0m\u001b[0;34m]\u001b[0m\u001b[0;34m)\u001b[0m\u001b[0;34m\u001b[0m\u001b[0m\n\u001b[1;32m      3\u001b[0m \u001b[0mprint\u001b[0m\u001b[0;34m(\u001b[0m\u001b[0mX_test\u001b[0m\u001b[0;34m.\u001b[0m\u001b[0mshape\u001b[0m\u001b[0;34m)\u001b[0m\u001b[0;34m\u001b[0m\u001b[0m\n\u001b[0;32m----> 4\u001b[0;31m \u001b[0mX_test_lda\u001b[0m \u001b[0;34m=\u001b[0m \u001b[0mlda\u001b[0m\u001b[0;34m.\u001b[0m\u001b[0mtransform\u001b[0m\u001b[0;34m(\u001b[0m\u001b[0mX_test\u001b[0m\u001b[0;34m)\u001b[0m\u001b[0;34m\u001b[0m\u001b[0m\n\u001b[0m\u001b[1;32m      5\u001b[0m \u001b[0mprint\u001b[0m\u001b[0;34m(\u001b[0m\u001b[0;34m'Output Prediction LDA Vectors:'\u001b[0m\u001b[0;34m,\u001b[0m \u001b[0mX_test_lda\u001b[0m\u001b[0;34m)\u001b[0m\u001b[0;34m\u001b[0m\u001b[0m\n\u001b[1;32m      6\u001b[0m \u001b[0mprint\u001b[0m\u001b[0;34m(\u001b[0m\u001b[0;34m'Shape of LDA Vectors:'\u001b[0m\u001b[0;34m,\u001b[0m \u001b[0mX_test_lda\u001b[0m\u001b[0;34m.\u001b[0m\u001b[0mshape\u001b[0m\u001b[0;34m)\u001b[0m\u001b[0;34m\u001b[0m\u001b[0m\n",
      "\u001b[0;32m/anaconda3/lib/python3.6/site-packages/sklearn/decomposition/online_lda.py\u001b[0m in \u001b[0;36mtransform\u001b[0;34m(self, X)\u001b[0m\n\u001b[1;32m    631\u001b[0m             \u001b[0mDocument\u001b[0m \u001b[0mtopic\u001b[0m \u001b[0mdistribution\u001b[0m \u001b[0;32mfor\u001b[0m \u001b[0mX\u001b[0m\u001b[0;34m.\u001b[0m\u001b[0;34m\u001b[0m\u001b[0m\n\u001b[1;32m    632\u001b[0m         \"\"\"\n\u001b[0;32m--> 633\u001b[0;31m         \u001b[0mdoc_topic_distr\u001b[0m \u001b[0;34m=\u001b[0m \u001b[0mself\u001b[0m\u001b[0;34m.\u001b[0m\u001b[0m_unnormalized_transform\u001b[0m\u001b[0;34m(\u001b[0m\u001b[0mX\u001b[0m\u001b[0;34m)\u001b[0m\u001b[0;34m\u001b[0m\u001b[0m\n\u001b[0m\u001b[1;32m    634\u001b[0m         \u001b[0mdoc_topic_distr\u001b[0m \u001b[0;34m/=\u001b[0m \u001b[0mdoc_topic_distr\u001b[0m\u001b[0;34m.\u001b[0m\u001b[0msum\u001b[0m\u001b[0;34m(\u001b[0m\u001b[0maxis\u001b[0m\u001b[0;34m=\u001b[0m\u001b[0;36m1\u001b[0m\u001b[0;34m)\u001b[0m\u001b[0;34m[\u001b[0m\u001b[0;34m:\u001b[0m\u001b[0;34m,\u001b[0m \u001b[0mnp\u001b[0m\u001b[0;34m.\u001b[0m\u001b[0mnewaxis\u001b[0m\u001b[0;34m]\u001b[0m\u001b[0;34m\u001b[0m\u001b[0m\n\u001b[1;32m    635\u001b[0m         \u001b[0;32mreturn\u001b[0m \u001b[0mdoc_topic_distr\u001b[0m\u001b[0;34m\u001b[0m\u001b[0m\n",
      "\u001b[0;32m/anaconda3/lib/python3.6/site-packages/sklearn/decomposition/online_lda.py\u001b[0m in \u001b[0;36m_unnormalized_transform\u001b[0;34m(self, X)\u001b[0m\n\u001b[1;32m    602\u001b[0m \u001b[0;34m\u001b[0m\u001b[0m\n\u001b[1;32m    603\u001b[0m         \u001b[0;31m# make sure feature size is the same in fitted model and in X\u001b[0m\u001b[0;34m\u001b[0m\u001b[0;34m\u001b[0m\u001b[0m\n\u001b[0;32m--> 604\u001b[0;31m         \u001b[0mX\u001b[0m \u001b[0;34m=\u001b[0m \u001b[0mself\u001b[0m\u001b[0;34m.\u001b[0m\u001b[0m_check_non_neg_array\u001b[0m\u001b[0;34m(\u001b[0m\u001b[0mX\u001b[0m\u001b[0;34m,\u001b[0m \u001b[0;34m\"LatentDirichletAllocation.transform\"\u001b[0m\u001b[0;34m)\u001b[0m\u001b[0;34m\u001b[0m\u001b[0m\n\u001b[0m\u001b[1;32m    605\u001b[0m         \u001b[0mn_samples\u001b[0m\u001b[0;34m,\u001b[0m \u001b[0mn_features\u001b[0m \u001b[0;34m=\u001b[0m \u001b[0mX\u001b[0m\u001b[0;34m.\u001b[0m\u001b[0mshape\u001b[0m\u001b[0;34m\u001b[0m\u001b[0m\n\u001b[1;32m    606\u001b[0m         \u001b[0;32mif\u001b[0m \u001b[0mn_features\u001b[0m \u001b[0;34m!=\u001b[0m \u001b[0mself\u001b[0m\u001b[0;34m.\u001b[0m\u001b[0mcomponents_\u001b[0m\u001b[0;34m.\u001b[0m\u001b[0mshape\u001b[0m\u001b[0;34m[\u001b[0m\u001b[0;36m1\u001b[0m\u001b[0;34m]\u001b[0m\u001b[0;34m:\u001b[0m\u001b[0;34m\u001b[0m\u001b[0m\n",
      "\u001b[0;32m/anaconda3/lib/python3.6/site-packages/sklearn/decomposition/online_lda.py\u001b[0m in \u001b[0;36m_check_non_neg_array\u001b[0;34m(self, X, whom)\u001b[0m\n\u001b[1;32m    462\u001b[0m \u001b[0;34m\u001b[0m\u001b[0m\n\u001b[1;32m    463\u001b[0m         \"\"\"\n\u001b[0;32m--> 464\u001b[0;31m         \u001b[0mX\u001b[0m \u001b[0;34m=\u001b[0m \u001b[0mcheck_array\u001b[0m\u001b[0;34m(\u001b[0m\u001b[0mX\u001b[0m\u001b[0;34m,\u001b[0m \u001b[0maccept_sparse\u001b[0m\u001b[0;34m=\u001b[0m\u001b[0;34m'csr'\u001b[0m\u001b[0;34m)\u001b[0m\u001b[0;34m\u001b[0m\u001b[0m\n\u001b[0m\u001b[1;32m    465\u001b[0m         \u001b[0mcheck_non_negative\u001b[0m\u001b[0;34m(\u001b[0m\u001b[0mX\u001b[0m\u001b[0;34m,\u001b[0m \u001b[0mwhom\u001b[0m\u001b[0;34m)\u001b[0m\u001b[0;34m\u001b[0m\u001b[0m\n\u001b[1;32m    466\u001b[0m         \u001b[0;32mreturn\u001b[0m \u001b[0mX\u001b[0m\u001b[0;34m\u001b[0m\u001b[0m\n",
      "\u001b[0;32m/anaconda3/lib/python3.6/site-packages/sklearn/utils/validation.py\u001b[0m in \u001b[0;36mcheck_array\u001b[0;34m(array, accept_sparse, dtype, order, copy, force_all_finite, ensure_2d, allow_nd, ensure_min_samples, ensure_min_features, warn_on_dtype, estimator)\u001b[0m\n\u001b[1;32m    460\u001b[0m                              \u001b[0;34m\" minimum of %d is required%s.\"\u001b[0m\u001b[0;34m\u001b[0m\u001b[0m\n\u001b[1;32m    461\u001b[0m                              % (n_samples, shape_repr, ensure_min_samples,\n\u001b[0;32m--> 462\u001b[0;31m                                 context))\n\u001b[0m\u001b[1;32m    463\u001b[0m \u001b[0;34m\u001b[0m\u001b[0m\n\u001b[1;32m    464\u001b[0m     \u001b[0;32mif\u001b[0m \u001b[0mensure_min_features\u001b[0m \u001b[0;34m>\u001b[0m \u001b[0;36m0\u001b[0m \u001b[0;32mand\u001b[0m \u001b[0marray\u001b[0m\u001b[0;34m.\u001b[0m\u001b[0mndim\u001b[0m \u001b[0;34m==\u001b[0m \u001b[0;36m2\u001b[0m\u001b[0;34m:\u001b[0m\u001b[0;34m\u001b[0m\u001b[0m\n",
      "\u001b[0;31mValueError\u001b[0m: Found array with 0 sample(s) (shape=(0, 18714)) while a minimum of 1 is required."
     ]
    }
   ],
   "source": [
    "print(test['all_text'])\n",
    "X_test = count_vect.transform(test['all_text'])\n",
    "print(X_test.shape)\n",
    "X_test_lda = lda.transform(X_test)\n",
    "print('Output Prediction LDA Vectors:', X_test_lda) \n",
    "print('Shape of LDA Vectors:', X_test_lda.shape)"
   ]
  },
  {
   "cell_type": "code",
   "execution_count": null,
   "metadata": {},
   "outputs": [],
   "source": [
    "# normalized doc-topic distribution\n",
    "doc_topic_dist = np.matrix(lda.transform(X_test))\n",
    "\n",
    "print('Predicted Tinder Personality #:',doc_topic_dist.argmax(axis=1))\n"
   ]
  },
  {
   "cell_type": "code",
   "execution_count": null,
   "metadata": {
    "collapsed": true
   },
   "outputs": [],
   "source": []
  }
 ],
 "metadata": {
  "kernelspec": {
   "display_name": "Python 3",
   "language": "python",
   "name": "python3"
  },
  "language_info": {
   "codemirror_mode": {
    "name": "ipython",
    "version": 3
   },
   "file_extension": ".py",
   "mimetype": "text/x-python",
   "name": "python",
   "nbconvert_exporter": "python",
   "pygments_lexer": "ipython3",
   "version": "3.6.3"
  }
 },
 "nbformat": 4,
 "nbformat_minor": 2
}
